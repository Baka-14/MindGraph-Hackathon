{
 "cells": [
  {
   "cell_type": "code",
   "execution_count": 1,
   "metadata": {},
   "outputs": [],
   "source": [
    "import pandas as pd \n",
    "from difflib import SequenceMatcher as SM\n",
    "df_club=pd.read_csv(\"Datasets\\Clubs_data.csv\")\n",
    "df_meta=pd.read_csv(\"Datasets\\Metadata.csv\")\n",
    "df_organiser=pd.read_csv(\"Datasets\\Organisers_In_Fests.csv\")\n",
    "df_participants=pd.read_csv(\"Datasets\\Participants_In_Fests.csv\")"
   ]
  },
  {
   "cell_type": "code",
   "execution_count": 2,
   "metadata": {},
   "outputs": [],
   "source": [
    "def is_similarity(first, second, ratio):\n",
    "    return SM(None, first, second).ratio() > ratio"
   ]
  },
  {
   "cell_type": "code",
   "execution_count": 3,
   "metadata": {},
   "outputs": [],
   "source": [
    "#For Club name correction\n",
    "for Index, row in df_club.iterrows():\n",
    "    # print(Index, len(df_club.iloc[Index][\"Name\"]))\n",
    "    df_club.at[Index, \"Name\"] = row[\"Name\"].lower()\n",
    "    for Index2, row2 in df_meta.iterrows():\n",
    "        df_meta.at[Index2, \"Name\"] = row2[\"Name\"].lower()\n",
    "        if is_similarity(row[\"Name\"], row2[\"Name\"], 0.64):\n",
    "            df_club.at[Index, \"Name\"] = row2[\"Name\"]\n",
    "            "
   ]
  },
  {
   "cell_type": "code",
   "execution_count": 26,
   "metadata": {},
   "outputs": [],
   "source": [
    "#Removing Invalid Names in Clubs CSV\n",
    "list_small_5 = []\n",
    "for Index, row in df_club.iterrows():\n",
    "    if len(df_club.iloc[Index][\"Name\"]) < 7:\n",
    "        list_small_5.append(Index)\n",
    "df_club = df_club.drop(df_club.index[list_small_5])"
   ]
  },
  {
   "cell_type": "code",
   "execution_count": 4,
   "metadata": {},
   "outputs": [],
   "source": [
    "#For Participants Name correction\n",
    "for Index, row in df_participants.iterrows():\n",
    "    df_participants.at[Index, \"Name\"] = row[\"Name\"].lower()\n",
    "    for Index2, row2 in df_meta.iterrows():\n",
    "        df_meta.at[Index2, \"Name\"] = row2[\"Name\"].lower()\n",
    "        if is_similarity(row[\"Name\"], row2[\"Name\"], 0.59):\n",
    "            df_participants.at[Index, \"Name\"] = row2[\"Name\"]"
   ]
  },
  {
   "cell_type": "code",
   "execution_count": 5,
   "metadata": {},
   "outputs": [],
   "source": [
    "#Removing Invalid Names in Participations CSV\n",
    "list_small_7 = []\n",
    "for Index, row in df_participants.iterrows():\n",
    "    if len(df_participants.iloc[Index][\"Name\"]) < 7:\n",
    "        list_small_7.append(Index)\n",
    "df_participants = df_participants.drop(df_participants.index[list_small_7])"
   ]
  },
  {
   "cell_type": "code",
   "execution_count": 6,
   "metadata": {},
   "outputs": [],
   "source": [
    "#For Organisers Name Correction\n",
    "for Index, row in df_organiser.iterrows():\n",
    "    df_organiser.at[Index, \"Name\"] = row[\"Name\"].lower()\n",
    "    for Index2, row2 in df_meta.iterrows():\n",
    "        df_meta.at[Index2, \"Name\"] = row2[\"Name\"].lower()\n",
    "        if is_similarity(row[\"Name\"], row2[\"Name\"], 0.69):\n",
    "            df_organiser.at[Index, \"Name\"] = row2[\"Name\"]"
   ]
  },
  {
   "cell_type": "code",
   "execution_count": 9,
   "metadata": {},
   "outputs": [],
   "source": [
    "#Removing Invalid Names in Organisers CSV\n",
    "list_small_7 = []\n",
    "for Index, row in df_organiser.iterrows():\n",
    "    if len(df_organiser.iloc[Index][\"Name\"]) < 7:\n",
    "        list_small_7.append(Index)\n",
    "df_organiser = df_organiser.drop(df_organiser.index[list_small_7])"
   ]
  },
  {
   "cell_type": "code",
   "execution_count": 11,
   "metadata": {},
   "outputs": [],
   "source": [
    "#Importing Numpy and creating a Combined DF with all the data\n",
    "import numpy as np\n",
    "df_combined = pd.concat([df_club,df_organiser,df_participants], ignore_index=True)\n",
    "df_combined['Roll No.'] = np.nan"
   ]
  },
  {
   "cell_type": "code",
   "execution_count": 14,
   "metadata": {},
   "outputs": [],
   "source": [
    "#Assigning Roll No. to people for making access easier\n",
    "for Index, row in df_combined.iterrows():\n",
    "    for Index2, row2 in df_meta.iterrows():\n",
    "        if row[\"Name\"] == row2[\"Name\"]:\n",
    "            df_combined.at[Index, \"Roll No.\"] = row2[\"ID\"]\n",
    "df_combined = df_combined.sort_values(by=\"Roll No.\")\n",
    "df_combined_No_Null = df_combined[df_combined[\"Roll No.\"].notnull()]"
   ]
  },
  {
   "cell_type": "code",
   "execution_count": 15,
   "metadata": {},
   "outputs": [],
   "source": [
    "new_cols = [\"Roll No.\", \"Name\", \"Club_Name\", \"Fest_Name\" ,\"Event\", \"Role\"]\n",
    "df_combined_No_Null=df_combined_No_Null.reindex(columns=new_cols)"
   ]
  },
  {
   "cell_type": "code",
   "execution_count": null,
   "metadata": {},
   "outputs": [],
   "source": [
    "df_combined_No_Null.head()"
   ]
  },
  {
   "cell_type": "code",
   "execution_count": null,
   "metadata": {},
   "outputs": [],
   "source": [
    "[\n",
    "    {\n",
    "        'name': 'Dummy',\n",
    "        'id': 'id000',\n",
    "        'clubs': {\n",
    "            'club_i': {\n",
    "                'isOrganiser': 'Organiser',\n",
    "                'club_i_event_j': {\n",
    "                    'participated': False\n",
    "                    },\n",
    "            },\n",
    "        },\n",
    "        'fests': {\n",
    "            'fest_i': {\n",
    "                'isOrganiser': '',\n",
    "                'fest_i_event_j': {\n",
    "                    'participated': True\n",
    "                    },\n",
    "            },\n",
    "        }\n",
    "    }\n",
    "]"
   ]
  }
 ],
 "metadata": {
  "kernelspec": {
   "display_name": "Python 3.8.8 64-bit",
   "language": "python",
   "name": "python3"
  },
  "language_info": {
   "codemirror_mode": {
    "name": "ipython",
    "version": 3
   },
   "file_extension": ".py",
   "mimetype": "text/x-python",
   "name": "python",
   "nbconvert_exporter": "python",
   "pygments_lexer": "ipython3",
   "version": "3.8.8"
  },
  "orig_nbformat": 4,
  "vscode": {
   "interpreter": {
    "hash": "594bfcb15969ebb74c9fb1f288a099e2afe755b02b476ca63a4407643d1dc579"
   }
  }
 },
 "nbformat": 4,
 "nbformat_minor": 2
}
