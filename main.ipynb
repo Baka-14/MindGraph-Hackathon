{
 "cells": [
  {
   "cell_type": "code",
   "execution_count": 1,
   "metadata": {},
   "outputs": [],
   "source": [
    "import pandas as pd \n",
    "df_club=pd.read_csv(\"Clubs_data.csv\")\n",
    "df_meta=pd.read_csv(\"Metadata.csv\")\n",
    "df_organiser=pd.read_csv(\"Organisers_In_Fests.csv\")\n",
    "df_prarticipants=pd.read_csv(\"Participants_In_Fests.csv\")"
   ]
  },
  {
   "cell_type": "code",
   "execution_count": 2,
   "metadata": {},
   "outputs": [
    {
     "data": {
      "text/html": [
       "<div>\n",
       "<style scoped>\n",
       "    .dataframe tbody tr th:only-of-type {\n",
       "        vertical-align: middle;\n",
       "    }\n",
       "\n",
       "    .dataframe tbody tr th {\n",
       "        vertical-align: top;\n",
       "    }\n",
       "\n",
       "    .dataframe thead th {\n",
       "        text-align: right;\n",
       "    }\n",
       "</style>\n",
       "<table border=\"1\" class=\"dataframe\">\n",
       "  <thead>\n",
       "    <tr style=\"text-align: right;\">\n",
       "      <th></th>\n",
       "      <th>Club_Name</th>\n",
       "      <th>Name</th>\n",
       "      <th>Event</th>\n",
       "      <th>Role</th>\n",
       "    </tr>\n",
       "  </thead>\n",
       "  <tbody>\n",
       "    <tr>\n",
       "      <th>0</th>\n",
       "      <td>club_3</td>\n",
       "      <td>Darien Ma</td>\n",
       "      <td>club_3_event_2</td>\n",
       "      <td>Participant</td>\n",
       "    </tr>\n",
       "    <tr>\n",
       "      <th>1</th>\n",
       "      <td>club_2</td>\n",
       "      <td>Sege Schrock</td>\n",
       "      <td>club_2_event_1</td>\n",
       "      <td>Participant</td>\n",
       "    </tr>\n",
       "    <tr>\n",
       "      <th>2</th>\n",
       "      <td>club_3</td>\n",
       "      <td>Alison bci</td>\n",
       "      <td>club_3_event_2</td>\n",
       "      <td>Participant</td>\n",
       "    </tr>\n",
       "    <tr>\n",
       "      <th>3</th>\n",
       "      <td>club_1</td>\n",
       "      <td>kiara jauregui</td>\n",
       "      <td>club_1_event_1</td>\n",
       "      <td>Participant</td>\n",
       "    </tr>\n",
       "    <tr>\n",
       "      <th>4</th>\n",
       "      <td>club_2</td>\n",
       "      <td>Tete Buim</td>\n",
       "      <td>club_2_event_3</td>\n",
       "      <td>Participant</td>\n",
       "    </tr>\n",
       "  </tbody>\n",
       "</table>\n",
       "</div>"
      ],
      "text/plain": [
       "  Club_Name            Name           Event         Role\n",
       "0    club_3       Darien Ma  club_3_event_2  Participant\n",
       "1    club_2    Sege Schrock  club_2_event_1  Participant\n",
       "2    club_3      Alison bci  club_3_event_2  Participant\n",
       "3    club_1  kiara jauregui  club_1_event_1  Participant\n",
       "4    club_2       Tete Buim  club_2_event_3  Participant"
      ]
     },
     "execution_count": 2,
     "metadata": {},
     "output_type": "execute_result"
    }
   ],
   "source": [
    "df_club.head()"
   ]
  },
  {
   "cell_type": "code",
   "execution_count": 3,
   "metadata": {},
   "outputs": [
    {
     "data": {
      "text/html": [
       "<div>\n",
       "<style scoped>\n",
       "    .dataframe tbody tr th:only-of-type {\n",
       "        vertical-align: middle;\n",
       "    }\n",
       "\n",
       "    .dataframe tbody tr th {\n",
       "        vertical-align: top;\n",
       "    }\n",
       "\n",
       "    .dataframe thead th {\n",
       "        text-align: right;\n",
       "    }\n",
       "</style>\n",
       "<table border=\"1\" class=\"dataframe\">\n",
       "  <thead>\n",
       "    <tr style=\"text-align: right;\">\n",
       "      <th></th>\n",
       "      <th>Name</th>\n",
       "      <th>ID</th>\n",
       "    </tr>\n",
       "  </thead>\n",
       "  <tbody>\n",
       "    <tr>\n",
       "      <th>0</th>\n",
       "      <td>Annette Ahmed</td>\n",
       "      <td>18XJ1A0100</td>\n",
       "    </tr>\n",
       "    <tr>\n",
       "      <th>1</th>\n",
       "      <td>Zachery Clancy</td>\n",
       "      <td>18XJ1A0101</td>\n",
       "    </tr>\n",
       "    <tr>\n",
       "      <th>2</th>\n",
       "      <td>Jaquelin Duran</td>\n",
       "      <td>18XJ1A0102</td>\n",
       "    </tr>\n",
       "    <tr>\n",
       "      <th>3</th>\n",
       "      <td>Orlando Clemens</td>\n",
       "      <td>18XJ1A0103</td>\n",
       "    </tr>\n",
       "    <tr>\n",
       "      <th>4</th>\n",
       "      <td>Dorothy Mayhew</td>\n",
       "      <td>18XJ1A0104</td>\n",
       "    </tr>\n",
       "  </tbody>\n",
       "</table>\n",
       "</div>"
      ],
      "text/plain": [
       "              Name          ID\n",
       "0    Annette Ahmed  18XJ1A0100\n",
       "1   Zachery Clancy  18XJ1A0101\n",
       "2   Jaquelin Duran  18XJ1A0102\n",
       "3  Orlando Clemens  18XJ1A0103\n",
       "4   Dorothy Mayhew  18XJ1A0104"
      ]
     },
     "execution_count": 3,
     "metadata": {},
     "output_type": "execute_result"
    }
   ],
   "source": [
    "df_meta.head()"
   ]
  },
  {
   "cell_type": "code",
   "execution_count": 4,
   "metadata": {},
   "outputs": [
    {
     "data": {
      "text/html": [
       "<div>\n",
       "<style scoped>\n",
       "    .dataframe tbody tr th:only-of-type {\n",
       "        vertical-align: middle;\n",
       "    }\n",
       "\n",
       "    .dataframe tbody tr th {\n",
       "        vertical-align: top;\n",
       "    }\n",
       "\n",
       "    .dataframe thead th {\n",
       "        text-align: right;\n",
       "    }\n",
       "</style>\n",
       "<table border=\"1\" class=\"dataframe\">\n",
       "  <thead>\n",
       "    <tr style=\"text-align: right;\">\n",
       "      <th></th>\n",
       "      <th>Fest_Name</th>\n",
       "      <th>Name</th>\n",
       "      <th>Role</th>\n",
       "    </tr>\n",
       "  </thead>\n",
       "  <tbody>\n",
       "    <tr>\n",
       "      <th>0</th>\n",
       "      <td>fest_2</td>\n",
       "      <td>Stcerr Hbmond</td>\n",
       "      <td>organiser_2</td>\n",
       "    </tr>\n",
       "    <tr>\n",
       "      <th>1</th>\n",
       "      <td>fest_2</td>\n",
       "      <td>Ayliwn Slks</td>\n",
       "      <td>organiser_6</td>\n",
       "    </tr>\n",
       "    <tr>\n",
       "      <th>2</th>\n",
       "      <td>fest_2</td>\n",
       "      <td>Sebestien Hickjman</td>\n",
       "      <td>organiser_7</td>\n",
       "    </tr>\n",
       "    <tr>\n",
       "      <th>3</th>\n",
       "      <td>fest_2</td>\n",
       "      <td>Grechen Chlewsn</td>\n",
       "      <td>organiser_8</td>\n",
       "    </tr>\n",
       "    <tr>\n",
       "      <th>4</th>\n",
       "      <td>fest_1</td>\n",
       "      <td>Evelin B</td>\n",
       "      <td>organiser_1</td>\n",
       "    </tr>\n",
       "  </tbody>\n",
       "</table>\n",
       "</div>"
      ],
      "text/plain": [
       "  Fest_Name                Name         Role\n",
       "0    fest_2       Stcerr Hbmond  organiser_2\n",
       "1    fest_2         Ayliwn Slks  organiser_6\n",
       "2    fest_2  Sebestien Hickjman  organiser_7\n",
       "3    fest_2     Grechen Chlewsn  organiser_8\n",
       "4    fest_1            Evelin B  organiser_1"
      ]
     },
     "execution_count": 4,
     "metadata": {},
     "output_type": "execute_result"
    }
   ],
   "source": [
    "df_organiser.head()"
   ]
  },
  {
   "cell_type": "code",
   "execution_count": 5,
   "metadata": {},
   "outputs": [
    {
     "data": {
      "text/html": [
       "<div>\n",
       "<style scoped>\n",
       "    .dataframe tbody tr th:only-of-type {\n",
       "        vertical-align: middle;\n",
       "    }\n",
       "\n",
       "    .dataframe tbody tr th {\n",
       "        vertical-align: top;\n",
       "    }\n",
       "\n",
       "    .dataframe thead th {\n",
       "        text-align: right;\n",
       "    }\n",
       "</style>\n",
       "<table border=\"1\" class=\"dataframe\">\n",
       "  <thead>\n",
       "    <tr style=\"text-align: right;\">\n",
       "      <th></th>\n",
       "      <th>Fest_Name</th>\n",
       "      <th>Name</th>\n",
       "      <th>Event</th>\n",
       "    </tr>\n",
       "  </thead>\n",
       "  <tbody>\n",
       "    <tr>\n",
       "      <th>0</th>\n",
       "      <td>fest_1</td>\n",
       "      <td>JenapRowli</td>\n",
       "      <td>fest_1_event_9</td>\n",
       "    </tr>\n",
       "    <tr>\n",
       "      <th>1</th>\n",
       "      <td>fest_1</td>\n",
       "      <td>Credyj Duenas</td>\n",
       "      <td>fest_1_event_4</td>\n",
       "    </tr>\n",
       "    <tr>\n",
       "      <th>2</th>\n",
       "      <td>fest_2</td>\n",
       "      <td>Jequqlin Duran</td>\n",
       "      <td>fest_2_event_1</td>\n",
       "    </tr>\n",
       "    <tr>\n",
       "      <th>3</th>\n",
       "      <td>fest_1</td>\n",
       "      <td>Keiyah widalgo</td>\n",
       "      <td>fest_1_event_4</td>\n",
       "    </tr>\n",
       "    <tr>\n",
       "      <th>4</th>\n",
       "      <td>fest_2</td>\n",
       "      <td>Elaine John S</td>\n",
       "      <td>fest_2_event_15</td>\n",
       "    </tr>\n",
       "  </tbody>\n",
       "</table>\n",
       "</div>"
      ],
      "text/plain": [
       "  Fest_Name            Name            Event\n",
       "0    fest_1      JenapRowli   fest_1_event_9\n",
       "1    fest_1   Credyj Duenas   fest_1_event_4\n",
       "2    fest_2  Jequqlin Duran   fest_2_event_1\n",
       "3    fest_1  Keiyah widalgo   fest_1_event_4\n",
       "4    fest_2   Elaine John S  fest_2_event_15"
      ]
     },
     "execution_count": 5,
     "metadata": {},
     "output_type": "execute_result"
    }
   ],
   "source": [
    "df_prarticipants.head()"
   ]
  }
 ],
 "metadata": {
  "kernelspec": {
   "display_name": "Python 3.9.7 64-bit",
   "language": "python",
   "name": "python3"
  },
  "language_info": {
   "codemirror_mode": {
    "name": "ipython",
    "version": 3
   },
   "file_extension": ".py",
   "mimetype": "text/x-python",
   "name": "python",
   "nbconvert_exporter": "python",
   "pygments_lexer": "ipython3",
   "version": "3.9.7"
  },
  "orig_nbformat": 4,
  "vscode": {
   "interpreter": {
    "hash": "aee8b7b246df8f9039afb4144a1f6fd8d2ca17a180786b69acc140d282b71a49"
   }
  }
 },
 "nbformat": 4,
 "nbformat_minor": 2
}
