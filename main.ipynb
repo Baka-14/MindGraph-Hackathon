{
 "cells": [
  {
   "cell_type": "code",
   "execution_count": 2,
   "metadata": {},
   "outputs": [],
   "source": [
    "import pandas as pd \n",
    "from difflib import SequenceMatcher as SM\n",
    "df_club=pd.read_csv(\"Clubs_data.csv\")\n",
    "df_meta=pd.read_csv(\"Metadata.csv\")\n",
    "df_organiser=pd.read_csv(\"Organisers_In_Fests.csv\")\n",
    "df_participants=pd.read_csv(\"Participants_In_Fests.csv\")"
   ]
  },
  {
   "cell_type": "code",
   "execution_count": 3,
   "metadata": {},
   "outputs": [],
   "source": [
    "def is_similarity(first, second, ratio):\n",
    "    return SM(None, first, second).ratio() > ratio"
   ]
  },
  {
   "cell_type": "code",
   "execution_count": 4,
   "metadata": {},
   "outputs": [],
   "source": [
    "org_list = []\n",
    "for Index, row in df_organiser.iterrows():\n",
    "    org_list.append(row[\"Name\"])\n",
    "\n",
    "meta_list = []\n",
    "for Index, row in df_meta.iterrows():\n",
    "    meta_list.append(row[\"Name\"])\n",
    "\n",
    "part_list = []\n",
    "for Index, row in df_participants.iterrows():\n",
    "    part_list.append(row[\"Name\"])\n",
    "\n",
    "club_list = []\n",
    "for Index, row in df_club.iterrows():\n",
    "    club_list.append(row[\"Name\"])"
   ]
  },
  {
   "cell_type": "code",
   "execution_count": 5,
   "metadata": {},
   "outputs": [
    {
     "name": "stdout",
     "output_type": "stream",
     "text": [
      "20\n",
      "500\n",
      "4769\n",
      "1046\n"
     ]
    }
   ],
   "source": [
    "print(len(org_list))\n",
    "print(len(meta_list))\n",
    "print(len(part_list))\n",
    "print(len(club_list))"
   ]
  },
  {
   "cell_type": "code",
   "execution_count": 6,
   "metadata": {},
   "outputs": [],
   "source": [
    "org_dict = {}\n",
    "for i in range(len(org_list)):\n",
    "    org_dict[org_list[i]] = i\n",
    "\n",
    "part_dict = {}\n",
    "for i in range(len(part_list)):\n",
    "    part_dict[part_list[i]] = i\n",
    "\n",
    "club_dict = {}\n",
    "for i in range(len(club_list)):\n",
    "    club_dict[club_list[i]] = i"
   ]
  },
  {
   "cell_type": "code",
   "execution_count": 7,
   "metadata": {},
   "outputs": [
    {
     "name": "stdout",
     "output_type": "stream",
     "text": [
      "18\n",
      "{0: 'Starr Hammond', 1: 'Aylin Seals', 2: 'Sebastien Hickman', 3: 'Gretchen Clawson', 4: 'Evelin Bradley', 5: 'Delanie Gilbertson', 6: 'River Feliciano', 7: 'Leona Cabral', 8: 'Aya Kennedy', 9: 'Abdullah Horst', 10: 'Stephon Smoot', 11: 'Perry Perryman', 12: 'Daria Daily', 14: 'Jordi Tam', 16: 'Rashawn Balderas', 17: 'Blaine Mckenzie', 18: 'Ashanti Koenig', 19: 'Zoie McDermott'}\n"
     ]
    }
   ],
   "source": [
    "org_res_dict = {}\n",
    "for i in org_list:\n",
    "    for j in meta_list:\n",
    "        if is_similarity(i, j, 0.63):\n",
    "            org_res_dict[org_dict[i]] = j\n",
    "print(len(org_res_dict))\n",
    "print(org_res_dict)"
   ]
  },
  {
   "cell_type": "code",
   "execution_count": null,
   "metadata": {},
   "outputs": [],
   "source": [
    "part_res_dict = {}\n",
    "for i in part_list:\n",
    "    for j in meta_list:\n",
    "        if is_similarity(i, j, 0.59):\n",
    "            part_res_dict[part_dict[i]] = j\n",
    "print(len(part_res_dict))\n",
    "print(part_res_dict)\n"
   ]
  },
  {
   "cell_type": "code",
   "execution_count": 8,
   "metadata": {},
   "outputs": [
    {
     "ename": "KeyError",
     "evalue": "'Daria Daily'",
     "output_type": "error",
     "traceback": [
      "\u001b[1;31m---------------------------------------------------------------------------\u001b[0m",
      "\u001b[1;31mKeyError\u001b[0m                                  Traceback (most recent call last)",
      "\u001b[1;32mc:\\Users\\91900\\Desktop\\Coding\\Mu Hiring Hackathon\\MindGraph-Hackathon\\main.ipynb Cell 8\u001b[0m in \u001b[0;36m<cell line: 2>\u001b[1;34m()\u001b[0m\n\u001b[0;32m      <a href='vscode-notebook-cell:/c%3A/Users/91900/Desktop/Coding/Mu%20Hiring%20Hackathon/MindGraph-Hackathon/main.ipynb#X10sZmlsZQ%3D%3D?line=2'>3</a>\u001b[0m     \u001b[39mfor\u001b[39;00m j \u001b[39min\u001b[39;00m meta_list:\n\u001b[0;32m      <a href='vscode-notebook-cell:/c%3A/Users/91900/Desktop/Coding/Mu%20Hiring%20Hackathon/MindGraph-Hackathon/main.ipynb#X10sZmlsZQ%3D%3D?line=3'>4</a>\u001b[0m         \u001b[39mif\u001b[39;00m is_similarity(i, j, \u001b[39m0.59\u001b[39m):        \n\u001b[1;32m----> <a href='vscode-notebook-cell:/c%3A/Users/91900/Desktop/Coding/Mu%20Hiring%20Hackathon/MindGraph-Hackathon/main.ipynb#X10sZmlsZQ%3D%3D?line=4'>5</a>\u001b[0m             club_res_dict[club_dict[j]] \u001b[39m=\u001b[39m j\n\u001b[0;32m      <a href='vscode-notebook-cell:/c%3A/Users/91900/Desktop/Coding/Mu%20Hiring%20Hackathon/MindGraph-Hackathon/main.ipynb#X10sZmlsZQ%3D%3D?line=5'>6</a>\u001b[0m \u001b[39mprint\u001b[39m(\u001b[39mlen\u001b[39m(club_res_dict))\n\u001b[0;32m      <a href='vscode-notebook-cell:/c%3A/Users/91900/Desktop/Coding/Mu%20Hiring%20Hackathon/MindGraph-Hackathon/main.ipynb#X10sZmlsZQ%3D%3D?line=6'>7</a>\u001b[0m \u001b[39mprint\u001b[39m(club_res_dict)\n",
      "\u001b[1;31mKeyError\u001b[0m: 'Daria Daily'"
     ]
    }
   ],
   "source": [
    "club_res_dict = {}\n",
    "for i in club_list:\n",
    "    for j in meta_list:\n",
    "        if is_similarity(i, j, 0.59):        \n",
    "            club_res_dict[club_dict[j]] = j\n",
    "print(len(club_res_dict))\n",
    "print(club_res_dict)"
   ]
  }
 ],
 "metadata": {
  "kernelspec": {
   "display_name": "Python 3.8.8 64-bit",
   "language": "python",
   "name": "python3"
  },
  "language_info": {
   "codemirror_mode": {
    "name": "ipython",
    "version": 3
   },
   "file_extension": ".py",
   "mimetype": "text/x-python",
   "name": "python",
   "nbconvert_exporter": "python",
   "pygments_lexer": "ipython3",
   "version": "3.8.8"
  },
  "orig_nbformat": 4,
  "vscode": {
   "interpreter": {
    "hash": "594bfcb15969ebb74c9fb1f288a099e2afe755b02b476ca63a4407643d1dc579"
   }
  }
 },
 "nbformat": 4,
 "nbformat_minor": 2
}
