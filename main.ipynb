{
 "cells": [
  {
   "cell_type": "code",
   "execution_count": 11,
   "metadata": {},
   "outputs": [],
   "source": [
    "import pandas as pd \n",
    "from difflib import SequenceMatcher as SM\n",
    "df_club=pd.read_csv(\"Clubs_data.csv\")\n",
    "df_meta=pd.read_csv(\"Metadata.csv\")\n",
    "df_organiser=pd.read_csv(\"Organisers_In_Fests.csv\")\n",
    "df_participants=pd.read_csv(\"Participants_In_Fests.csv\")"
   ]
  },
  {
   "cell_type": "code",
   "execution_count": 2,
   "metadata": {},
   "outputs": [],
   "source": [
    "def is_similarity(first, second, ratio):\n",
    "    return SM(None, first, second).ratio() > ratio"
   ]
  },
  {
   "cell_type": "code",
   "execution_count": 12,
   "metadata": {},
   "outputs": [],
   "source": [
    "org_list = []\n",
    "for Index, row in df_organiser.iterrows():\n",
    "    org_list.append(row[\"Name\"])\n",
    "\n",
    "meta_list = []\n",
    "for Index, row in df_meta.iterrows():\n",
    "    meta_list.append(row[\"Name\"])\n",
    "\n",
    "part_list = []\n",
    "for Index, row in df_participants.iterrows():\n",
    "    part_list.append(row[\"Name\"])\n",
    "\n",
    "club_list = []\n",
    "for Index, row in df_club.iterrows():\n",
    "    club_list.append(row[\"Name\"])"
   ]
  },
  {
   "cell_type": "code",
   "execution_count": 13,
   "metadata": {},
   "outputs": [
    {
     "name": "stdout",
     "output_type": "stream",
     "text": [
      "20\n",
      "500\n",
      "4769\n",
      "1046\n"
     ]
    }
   ],
   "source": [
    "print(len(org_list))\n",
    "print(len(meta_list))\n",
    "print(len(part_list))\n",
    "print(len(club_list))"
   ]
  },
  {
   "cell_type": "code",
   "execution_count": 14,
   "metadata": {},
   "outputs": [],
   "source": [
    "org_dict = {}\n",
    "for i in range(len(org_list)):\n",
    "    org_dict[org_list[i]] = i\n",
    "\n",
    "part_dict = {}\n",
    "for i in range(len(part_list)):\n",
    "    part_dict[part_list[i]] = i\n",
    "\n",
    "club_dict = {}\n",
    "for i in range(len(club_list)):\n",
    "    club_dict[club_list[i]] = i"
   ]
  },
  {
   "cell_type": "code",
   "execution_count": 25,
   "metadata": {},
   "outputs": [
    {
     "name": "stdout",
     "output_type": "stream",
     "text": [
      "18\n",
      "{'Starr Hammond': 0, 'Aylin Seals': 1, 'Sebastien Hickman': 2, 'Gretchen Clawson': 3, 'Evelin Bradley': 4, 'Delanie Gilbertson': 5, 'River Feliciano': 6, 'Leona Cabral': 7, 'Aya Kennedy': 8, 'Abdullah Horst': 9, 'Stephon Smoot': 10, 'Perry Perryman': 11, 'Daria Daily': 12, 'Jordi Tam': 14, 'Rashawn Balderas': 16, 'Blaine Mckenzie': 17, 'Ashanti Koenig': 18, 'Zoie McDermott': 19}\n"
     ]
    }
   ],
   "source": [
    "org_res_dict = {}\n",
    "for i in org_list:\n",
    "    for j in meta_list:\n",
    "        if is_similarity(i, j, 0.63):\n",
    "            org_res_dict[j] = org_dict[i]\n",
    "print(len(org_res_dict))\n",
    "print(org_res_dict)"
   ]
  },
  {
   "cell_type": "code",
   "execution_count": 23,
   "metadata": {},
   "outputs": [
    {
     "ename": "KeyboardInterrupt",
     "evalue": "",
     "output_type": "error",
     "traceback": [
      "\u001b[1;31m---------------------------------------------------------------------------\u001b[0m",
      "\u001b[1;31mKeyboardInterrupt\u001b[0m                         Traceback (most recent call last)",
      "\u001b[1;32mc:\\Users\\91900\\Desktop\\Coding\\Mu Hiring Hackathon\\MindGraph-Hackathon\\main.ipynb Cell 7\u001b[0m in \u001b[0;36m<cell line: 2>\u001b[1;34m()\u001b[0m\n\u001b[0;32m      <a href='vscode-notebook-cell:/c%3A/Users/91900/Desktop/Coding/Mu%20Hiring%20Hackathon/MindGraph-Hackathon/main.ipynb#X12sZmlsZQ%3D%3D?line=1'>2</a>\u001b[0m \u001b[39mfor\u001b[39;00m i \u001b[39min\u001b[39;00m part_list:\n\u001b[0;32m      <a href='vscode-notebook-cell:/c%3A/Users/91900/Desktop/Coding/Mu%20Hiring%20Hackathon/MindGraph-Hackathon/main.ipynb#X12sZmlsZQ%3D%3D?line=2'>3</a>\u001b[0m     \u001b[39mfor\u001b[39;00m j \u001b[39min\u001b[39;00m meta_list:\n\u001b[1;32m----> <a href='vscode-notebook-cell:/c%3A/Users/91900/Desktop/Coding/Mu%20Hiring%20Hackathon/MindGraph-Hackathon/main.ipynb#X12sZmlsZQ%3D%3D?line=3'>4</a>\u001b[0m         \u001b[39mif\u001b[39;00m is_similarity(i, j, \u001b[39m0.63\u001b[39;49m):\n\u001b[0;32m      <a href='vscode-notebook-cell:/c%3A/Users/91900/Desktop/Coding/Mu%20Hiring%20Hackathon/MindGraph-Hackathon/main.ipynb#X12sZmlsZQ%3D%3D?line=4'>5</a>\u001b[0m             part_res_dict[j] \u001b[39m=\u001b[39m part_dict[i]\n\u001b[0;32m      <a href='vscode-notebook-cell:/c%3A/Users/91900/Desktop/Coding/Mu%20Hiring%20Hackathon/MindGraph-Hackathon/main.ipynb#X12sZmlsZQ%3D%3D?line=5'>6</a>\u001b[0m \u001b[39mprint\u001b[39m(\u001b[39mlen\u001b[39m(part_res_dict))\n",
      "\u001b[1;32mc:\\Users\\91900\\Desktop\\Coding\\Mu Hiring Hackathon\\MindGraph-Hackathon\\main.ipynb Cell 7\u001b[0m in \u001b[0;36mis_similarity\u001b[1;34m(first, second, ratio)\u001b[0m\n\u001b[0;32m      <a href='vscode-notebook-cell:/c%3A/Users/91900/Desktop/Coding/Mu%20Hiring%20Hackathon/MindGraph-Hackathon/main.ipynb#X12sZmlsZQ%3D%3D?line=0'>1</a>\u001b[0m \u001b[39mdef\u001b[39;00m \u001b[39mis_similarity\u001b[39m(first, second, ratio):\n\u001b[1;32m----> <a href='vscode-notebook-cell:/c%3A/Users/91900/Desktop/Coding/Mu%20Hiring%20Hackathon/MindGraph-Hackathon/main.ipynb#X12sZmlsZQ%3D%3D?line=1'>2</a>\u001b[0m     \u001b[39mreturn\u001b[39;00m SM(\u001b[39mNone\u001b[39;49;00m, first, second)\u001b[39m.\u001b[39;49mratio() \u001b[39m>\u001b[39m ratio\n",
      "File \u001b[1;32mc:\\Users\\91900\\AppData\\Local\\Programs\\Python\\Python38\\lib\\difflib.py:644\u001b[0m, in \u001b[0;36mSequenceMatcher.ratio\u001b[1;34m(self)\u001b[0m\n\u001b[0;32m    622\u001b[0m \u001b[39mdef\u001b[39;00m \u001b[39mratio\u001b[39m(\u001b[39mself\u001b[39m):\n\u001b[0;32m    623\u001b[0m     \u001b[39m\"\"\"Return a measure of the sequences' similarity (float in [0,1]).\u001b[39;00m\n\u001b[0;32m    624\u001b[0m \n\u001b[0;32m    625\u001b[0m \u001b[39m    Where T is the total number of elements in both sequences, and\u001b[39;00m\n\u001b[1;32m   (...)\u001b[0m\n\u001b[0;32m    641\u001b[0m \u001b[39m    1.0\u001b[39;00m\n\u001b[0;32m    642\u001b[0m \u001b[39m    \"\"\"\u001b[39;00m\n\u001b[1;32m--> 644\u001b[0m     matches \u001b[39m=\u001b[39m \u001b[39msum\u001b[39m(triple[\u001b[39m-\u001b[39m\u001b[39m1\u001b[39m] \u001b[39mfor\u001b[39;00m triple \u001b[39min\u001b[39;00m \u001b[39mself\u001b[39;49m\u001b[39m.\u001b[39;49mget_matching_blocks())\n\u001b[0;32m    645\u001b[0m     \u001b[39mreturn\u001b[39;00m _calculate_ratio(matches, \u001b[39mlen\u001b[39m(\u001b[39mself\u001b[39m\u001b[39m.\u001b[39ma) \u001b[39m+\u001b[39m \u001b[39mlen\u001b[39m(\u001b[39mself\u001b[39m\u001b[39m.\u001b[39mb))\n",
      "File \u001b[1;32mc:\\Users\\91900\\AppData\\Local\\Programs\\Python\\Python38\\lib\\difflib.py:479\u001b[0m, in \u001b[0;36mSequenceMatcher.get_matching_blocks\u001b[1;34m(self)\u001b[0m\n\u001b[0;32m    477\u001b[0m \u001b[39mwhile\u001b[39;00m queue:\n\u001b[0;32m    478\u001b[0m     alo, ahi, blo, bhi \u001b[39m=\u001b[39m queue\u001b[39m.\u001b[39mpop()\n\u001b[1;32m--> 479\u001b[0m     i, j, k \u001b[39m=\u001b[39m x \u001b[39m=\u001b[39m \u001b[39mself\u001b[39;49m\u001b[39m.\u001b[39;49mfind_longest_match(alo, ahi, blo, bhi)\n\u001b[0;32m    480\u001b[0m     \u001b[39m# a[alo:i] vs b[blo:j] unknown\u001b[39;00m\n\u001b[0;32m    481\u001b[0m     \u001b[39m# a[i:i+k] same as b[j:j+k]\u001b[39;00m\n\u001b[0;32m    482\u001b[0m     \u001b[39m# a[i+k:ahi] vs b[j+k:bhi] unknown\u001b[39;00m\n\u001b[0;32m    483\u001b[0m     \u001b[39mif\u001b[39;00m k:   \u001b[39m# if k is 0, there was no matching block\u001b[39;00m\n",
      "File \u001b[1;32mc:\\Users\\91900\\AppData\\Local\\Programs\\Python\\Python38\\lib\\difflib.py:410\u001b[0m, in \u001b[0;36mSequenceMatcher.find_longest_match\u001b[1;34m(self, alo, ahi, blo, bhi)\u001b[0m\n\u001b[0;32m    408\u001b[0m \u001b[39mif\u001b[39;00m j \u001b[39m>\u001b[39m\u001b[39m=\u001b[39m bhi:\n\u001b[0;32m    409\u001b[0m     \u001b[39mbreak\u001b[39;00m\n\u001b[1;32m--> 410\u001b[0m k \u001b[39m=\u001b[39m newj2len[j] \u001b[39m=\u001b[39m j2lenget(j\u001b[39m-\u001b[39;49m\u001b[39m1\u001b[39;49m, \u001b[39m0\u001b[39;49m) \u001b[39m+\u001b[39m \u001b[39m1\u001b[39m\n\u001b[0;32m    411\u001b[0m \u001b[39mif\u001b[39;00m k \u001b[39m>\u001b[39m bestsize:\n\u001b[0;32m    412\u001b[0m     besti, bestj, bestsize \u001b[39m=\u001b[39m i\u001b[39m-\u001b[39mk\u001b[39m+\u001b[39m\u001b[39m1\u001b[39m, j\u001b[39m-\u001b[39mk\u001b[39m+\u001b[39m\u001b[39m1\u001b[39m, k\n",
      "\u001b[1;31mKeyboardInterrupt\u001b[0m: "
     ]
    }
   ],
   "source": [
    "part_res_dict = {}\n",
    "for i in part_list:\n",
    "    for j in meta_list:\n",
    "        if is_similarity(i, j, 0.59):\n",
    "            part_res_dict[j] = part_dict[i]\n",
    "print(len(part_res_dict))\n",
    "print(part_res_dict)\n"
   ]
  },
  {
   "cell_type": "code",
   "execution_count": 17,
   "metadata": {},
   "outputs": [
    {
     "name": "stdout",
     "output_type": "stream",
     "text": [
      "284\n",
      "{'Darien Martens': 0, 'Dorian Medina': 0, 'Sage Schrock': 908, 'Alison Mcvey': 657, 'Kiara Jauregui': 928, 'Tate Blum': 4, 'Louis Samuels': 894, 'Marcello Weber': 770, 'Marcel Wenger': 770, 'Janine McCormack': 96, 'Quinton Taylor': 918, 'Everardo Cronin': 787, 'Warren Schofield': 877, 'Ezra Lord': 559, 'Alannah Chisholm': 957, 'Grayson Heim': 679, 'Judith Howland': 725, 'Mira Greenfield': 1044, 'Milo Greenfield': 1044, 'Haylie Garay': 889, 'Sana Fairbanks': 621, 'Evelin Bradley': 1035, 'Denise Minor': 772, 'Santiago Nadeau': 1013, 'Grady Sample': 903, 'Chelsey Dean': 1031, 'Darrius Albers': 746, 'Annabelle Malloy': 253, 'Natalya Garvin': 899, 'Alize Dodd': 655, 'Brennen Ellison': 883, 'Deangelo Neuman': 999, 'Lucia Cody': 37, 'Lexis Whitley': 921, 'Kala Greenfield': 860, 'Raymundo Zapata': 960, 'Galilea Villasenor': 952, 'Gustavo Mull': 1036, 'Areli Seeley': 806, 'Jude Golden': 890, 'Rudy Bradley': 958, 'Litzy Moyer': 821, 'Mallorie Saenz': 934, 'Alexandrea Starnes': 1034, 'Jocelyn Fitzsimmons': 1038, 'Karla Parris': 800, 'Shea Jenkins': 935, 'Amaiya Solano': 927, 'Thea McCloud': 67, 'Britton Gillespie': 521, 'Linda Brennan': 905, 'Alina Ervin': 1033, 'Doris Prado': 959, 'Johnson Schuler': 666, 'Kayleigh Koenig': 886, 'Lorena Lamar': 839, 'Kierstin Millard': 815, 'Kenya Patrick': 911, 'James Patrick': 911, 'Stephon Smoot': 954, 'Stephon Burnett': 954, 'Joaquin Crist': 1025, 'Killian Ratliff': 1030, 'Jared Gulley': 182, 'Roxanna McNair': 937, 'Latrell Easley': 520, 'Nora Snyder': 553, 'Shanna Branch': 1029, 'Griselda Acuna': 1026, 'Arman Griswold': 95, 'Delanie Gilbertson': 871, 'Luciano Sims': 1023, 'Yisroel Sisk': 824, 'Dayna Steele': 819, 'Tatum Henning': 630, 'Serenity Ngo': 983, 'Dario White': 964, 'Ainsley Clinton': 709, 'Heidi Whitmore': 964, 'Aleah Crider': 108, 'Fernando Segovia': 516, 'Jazmyn Schmid': 533, 'Marco Rand': 1007, 'Blaine Mckenzie': 912, 'Mckenzie Finn': 969, 'Mckenzie Hitchcock': 856, 'Crystal Leavitt': 1012, 'Keri Carrier': 1032, 'Malorie Bassett': 306, 'Baby Heaton': 358, 'Christion Cohen': 917, 'Johnny Toney': 434, 'Jadon Vandyke': 1021, 'Wilson Slocum': 513, 'Rylie Gomez': 889, 'Rowan Paquette': 129, 'Elaine Sell': 133, 'Aylin Seals': 806, 'Jalin Milligan': 721, 'Kalen Logan': 1041, 'Yisroel Storm': 824, 'Jayvon Kirk': 837, 'Lewis Breedlove': 1027, 'Kierstin Romano': 1001, 'Eden Ring': 1011, 'Theodore Schmidt': 950, 'Mireya Godfrey': 775, 'Kalee Casillas': 471, 'Jarrett Murry': 1028, 'Nancy Lamb': 702, 'Sydney Rowe': 985, 'Andrew Keefe': 328, 'Kathrine Leone': 1042, 'Amber Costa': 981, 'Monet Wallace': 995, 'Tasha Smalley': 1024, 'Autum Kohn': 484, 'Jacey Dillon': 881, 'Jacey Weeks': 881, 'Katelynn Harlow': 807, 'Elliot Held': 428, 'Semaj Plummer': 941, 'Jedidiah Clarkson': 953, 'Ibrahim Sun': 1043, 'Christy Elliott': 878, 'Ben Alston': 601, 'Jaylan Krieger': 1003, 'Frank Halstead': 887, 'Katy Fine': 194, 'Gisselle Thornton': 196, 'Annette Ahmed': 879, 'Robyn Dickey': 988, 'Tai Kline': 577, 'Justyn Goetz': 844, 'Ireland Bernier': 733, 'Guillermo Hackney': 940, 'Abagail Marx': 652, 'Jessenia Perales': 470, 'Cornelius Macias': 925, 'Allissa Biddle': 610, 'Annaliese Giles': 610, 'Kristian Jansen': 841, 'Brennan Keck': 325, 'Thea Noyes': 582, 'Jaylan Conway': 264, 'Jaylynn Cyr': 226, 'Matthias Cordero': 491, 'Phoenix Fontaine': 228, 'Phoenix Thai': 1037, 'Margaret Krebs': 229, 'Maren Sears': 306, 'Judith Crook': 725, 'Reagan Houghton': 848, 'Jaquelin Duran': 968, 'Carlos Sullivan': 420, 'Jonatan Moses': 779, 'Daysha Sapp': 782, 'Lukas McGee': 947, 'Hasan Sam': 245, 'Rashawn Balderas': 426, 'Shawn Kay': 245, 'Sanjana Cornwell': 896, 'Cathryn Duarte': 467, 'Amber Rudolph': 882, 'Holland Foy': 580, 'Kobe Barrientos': 931, 'Abdullah Reddy': 857, 'Cayla Rincon': 264, 'Brionna Grimes': 833, 'Reanna Dover': 568, 'Misty Lavoie': 523, 'Cristobal Fallon': 989, 'Irvin Lira': 973, 'Kenzie Meier': 930, 'Kaycee Coker': 804, 'Ray Mcneely': 885, 'Coleman Peace': 731, 'Ronan Baggett': 893, 'Kalista Whiteside': 596, 'Jordi Tam': 619, 'Jordin Richey': 301, 'Abdullah Horst': 857, 'Maranda Dunaway': 574, 'Raelyn Steward': 994, 'Mariel Shearer': 306, 'April Gorman': 308, 'Keyla Gorman': 976, 'Javier Breaux': 794, 'Daria Daily': 802, 'Jacy Tipton': 881, 'Kolten Roland': 838, 'Tucker Volk': 991, 'Elena Altamirano': 330, 'Janie Reddy': 692, 'Raymundo Benavides': 997, 'Maxim Turk': 342, 'Gabriel Hitchcock': 972, 'River Feliciano': 644, 'Everett Flood': 1009, 'Alexander Jaimes': 694, 'Shaniya Booth': 355, 'Johnathon Leger': 688, 'Jonathon Lambert': 688, 'Zoie McDermott': 437, 'Devon Kaiser': 837, 'Amalia Frost': 927, 'Chastity Hulsey': 962, 'Arjun Payne': 693, 'Samira Baer': 949, 'Amina Ware': 949, 'Sydnee Mears': 873, 'Chastity Lyle': 962, 'Lyndsay Jacobson': 635, 'Lyndsay Schuler': 714, 'Hamza Caswell': 970, 'Cody Garay': 998, 'Breanne Concepcion': 411, 'Keenan Stone': 413, 'Brianna Embry': 1002, 'Darrius Machado': 1016, 'Daisha Yoon': 1045, 'Joselyn Barrow': 943, 'Alexandria Galbraith': 979, 'Robyn Guzman': 760, 'Nathaly Lavoie': 505, 'Henry Johansen': 719, 'Kenton Trejo': 863, 'Abril Covarrubias': 572, 'Gretchen Clawson': 488, 'Kaycee Carlin': 869, 'Lori Gill': 1019, 'Herman Turley': 932, 'Kendrick Valadez': 515, 'Alize Gross': 525, 'Adan Goetz': 730, 'Allen McPherson': 835, 'Keyana Grubbs': 637, 'Leah Root': 544, 'Ashtyn Inman': 823, 'Ashtyn Benjamin': 823, 'Devyn Ewing': 556, 'Amaris Jones': 584, 'Garret Cockrell': 790, 'Annalise Dietz': 708, 'Tyshawn Espino': 826, 'Jane Carson': 765, 'Cailyn Seward': 994, 'Clyde Bolin': 788, 'Dexter Dunne': 718, 'Jayna Rowley': 667, 'Serenity Castillo': 983, 'Clyde Lindsay': 986, 'Ciera Almanza': 910, 'Kody Bader': 690, 'Cody Medina': 690, 'Jean Hickey': 692, 'Jaime Grimes': 749, 'Janell Hager': 971, 'Dakotah Boyer': 1006, 'Zachery Schrader': 704, 'Carlee Pearce': 731, 'Jenny Barksdale': 992, 'Giovanna Fugate': 767, 'Alvin Venegas': 773, 'Adeline Henry': 769, 'Alvin Hayden': 769, 'Jase Franz': 974, 'Bradley Mazur': 859, 'Patricia Gross': 818, 'Keshawn Stein': 826, 'Sean Guthrie': 850, 'Daquan Samuels': 866, 'Kelsie Segura': 1017, 'Kallie Derosa': 870, 'Kallie Everett': 963, 'Alyse Bertrand': 1005, 'Monserrat Lomax': 895, 'Kasey Gabriel': 915, 'Chanel Pickett': 939, 'Charisma Wilbur': 965, 'Alycia Woodard': 1008, 'Aya Kennedy': 1000, 'Josef Finney': 1014, 'Darrion Barrios': 1022}\n"
     ]
    }
   ],
   "source": [
    "club_res_dict = {}\n",
    "for i in club_list:\n",
    "    for j in meta_list:\n",
    "        if is_similarity(i, j, 0.63):\n",
    "            club_res_dict[j] = club_dict[i]\n",
    "print(len(club_res_dict))\n",
    "print(club_res_dict)"
   ]
  }
 ],
 "metadata": {
  "kernelspec": {
   "display_name": "Python 3.8.8 64-bit",
   "language": "python",
   "name": "python3"
  },
  "language_info": {
   "codemirror_mode": {
    "name": "ipython",
    "version": 3
   },
   "file_extension": ".py",
   "mimetype": "text/x-python",
   "name": "python",
   "nbconvert_exporter": "python",
   "pygments_lexer": "ipython3",
   "version": "3.8.8"
  },
  "orig_nbformat": 4,
  "vscode": {
   "interpreter": {
    "hash": "594bfcb15969ebb74c9fb1f288a099e2afe755b02b476ca63a4407643d1dc579"
   }
  }
 },
 "nbformat": 4,
 "nbformat_minor": 2
}
